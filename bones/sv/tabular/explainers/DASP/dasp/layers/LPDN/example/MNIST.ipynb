{
 "cells": [
  {
   "cell_type": "code",
   "execution_count": 1,
   "metadata": {
    "collapsed": true
   },
   "outputs": [],
   "source": [
    "%load_ext autoreload\n",
    "%autoreload 2"
   ]
  },
  {
   "cell_type": "code",
   "execution_count": 2,
   "metadata": {
    "collapsed": false
   },
   "outputs": [
    {
     "name": "stderr",
     "output_type": "stream",
     "text": [
      "Using TensorFlow backend.\n"
     ]
    }
   ],
   "source": [
    "'''Trains a simple convnet on the MNIST dataset.\n",
    "\n",
    "Gets to 99.25% test accuracy after 12 epochs\n",
    "(there is still a lot of margin for parameter tuning).\n",
    "16 seconds per epoch on a GRID K520 GPU.\n",
    "'''\n",
    "\n",
    "from __future__ import print_function\n",
    "import keras\n",
    "from keras.datasets import mnist\n",
    "from keras.models import Sequential, Model\n",
    "from keras.layers import Dense, Dropout, Flatten, Activation\n",
    "from keras.layers import Conv2D, MaxPooling2D\n",
    "from keras import backend as K\n",
    "import numpy as np"
   ]
  },
  {
   "cell_type": "code",
   "execution_count": 44,
   "metadata": {
    "collapsed": false
   },
   "outputs": [
    {
     "name": "stdout",
     "output_type": "stream",
     "text": [
      "x_train shape: (60000, 28, 28, 1)\n",
      "60000 train samples\n",
      "10000 test samples\n",
      "Train on 60000 samples, validate on 10000 samples\n",
      "Epoch 1/1\n",
      "60000/60000 [==============================] - 7s 119us/step - loss: 0.2632 - acc: 0.9206 - val_loss: 0.0572 - val_acc: 0.9808\n",
      "Test loss: 0.05723402953627519\n",
      "Test accuracy: 0.9808\n"
     ]
    },
    {
     "data": {
      "text/plain": [
       "array([[2.55904268e-07, 1.39071110e-08, 6.85280611e-06, 3.12924954e-06,\n",
       "        1.06494564e-08, 4.46219817e-09, 3.27008554e-09, 9.99987245e-01,\n",
       "        4.73717634e-08, 2.50406583e-06],\n",
       "       [3.20763729e-06, 2.49420300e-05, 9.99965549e-01, 4.06200525e-06,\n",
       "        2.91464763e-09, 3.35106165e-09, 1.43034219e-06, 3.49216434e-09,\n",
       "        8.12050985e-07, 6.17292883e-11],\n",
       "       [5.40509473e-06, 9.99128282e-01, 2.28736302e-04, 4.59426656e-06,\n",
       "        1.07721025e-04, 3.36976836e-06, 1.36639908e-04, 3.34077515e-04,\n",
       "        3.71899878e-05, 1.40207922e-05],\n",
       "       [9.99922633e-01, 2.51893624e-07, 2.12697705e-05, 8.25799930e-07,\n",
       "        3.33046586e-08, 5.25347286e-06, 4.45402002e-05, 2.59837475e-06,\n",
       "        9.42924032e-07, 1.64843470e-06],\n",
       "       [2.08605184e-06, 3.03851812e-06, 2.29683337e-06, 5.74533203e-07,\n",
       "        9.98565853e-01, 6.74309604e-07, 1.59546089e-05, 5.38241329e-06,\n",
       "        6.03199624e-06, 1.39810436e-03]], dtype=float32)"
      ]
     },
     "execution_count": 44,
     "metadata": {},
     "output_type": "execute_result"
    }
   ],
   "source": [
    "batch_size = 128\n",
    "num_classes = 10\n",
    "epochs = 1\n",
    "\n",
    "# input image dimensions\n",
    "img_rows, img_cols = 28, 28\n",
    "\n",
    "# the data, split between train and test sets\n",
    "(x_train, y_train), (x_test, y_test) = mnist.load_data()\n",
    "\n",
    "if K.image_data_format() == 'channels_first':\n",
    "    x_train = x_train.reshape(x_train.shape[0], 1, img_rows, img_cols)\n",
    "    x_test = x_test.reshape(x_test.shape[0], 1, img_rows, img_cols)\n",
    "    input_shape = (1, img_rows, img_cols)\n",
    "else:\n",
    "    x_train = x_train.reshape(x_train.shape[0], img_rows, img_cols, 1)\n",
    "    x_test = x_test.reshape(x_test.shape[0], img_rows, img_cols, 1)\n",
    "    input_shape = (img_rows, img_cols, 1)\n",
    "\n",
    "x_train = x_train.astype('float32')\n",
    "x_test = x_test.astype('float32')\n",
    "x_train /= 255\n",
    "x_test /= 255\n",
    "print('x_train shape:', x_train.shape)\n",
    "print(x_train.shape[0], 'train samples')\n",
    "print(x_test.shape[0], 'test samples')\n",
    "\n",
    "# convert class vectors to binary class matrices\n",
    "y_train = keras.utils.to_categorical(y_train, num_classes)\n",
    "y_test = keras.utils.to_categorical(y_test, num_classes)\n",
    "\n",
    "model = Sequential()\n",
    "model.add(Conv2D(32, kernel_size=(3, 3),\n",
    "                 activation='relu',\n",
    "                 input_shape=input_shape))\n",
    "model.add(Conv2D(64, (3, 3), activation='relu'))\n",
    "model.add(MaxPooling2D(pool_size=(2, 2)))\n",
    "model.add(Dropout(0.25))\n",
    "model.add(Flatten())\n",
    "model.add(Dense(128, activation='relu'))\n",
    "model.add(Dropout(0.5))\n",
    "model.add(Dense(num_classes))\n",
    "model.add(Activation('softmax'))\n",
    "\n",
    "model.compile(loss=keras.losses.categorical_crossentropy,\n",
    "              optimizer=keras.optimizers.Adadelta(),\n",
    "              metrics=['accuracy'])\n",
    "\n",
    "model.fit(x_train, y_train,\n",
    "          batch_size=batch_size,\n",
    "          epochs=epochs,\n",
    "          verbose=1,\n",
    "          validation_data=(x_test, y_test))\n",
    "score = model.evaluate(x_test, y_test, verbose=0)\n",
    "print('Test loss:', score[0])\n",
    "print('Test accuracy:', score[1])\n"
   ]
  },
  {
   "cell_type": "code",
   "execution_count": 45,
   "metadata": {
    "collapsed": false
   },
   "outputs": [
    {
     "data": {
      "text/plain": [
       "array([7, 2, 1, 0, 4])"
      ]
     },
     "execution_count": 45,
     "metadata": {},
     "output_type": "execute_result"
    }
   ],
   "source": [
    "np.argmax(model.predict(x_test[:5]), -1)"
   ]
  },
  {
   "cell_type": "code",
   "execution_count": 47,
   "metadata": {
    "collapsed": false
   },
   "outputs": [
    {
     "name": "stdout",
     "output_type": "stream",
     "text": [
      "Tensor(\"input_2:0\", shape=(?, 28, 28, 1, 2), dtype=float32)\n",
      "Tensor(\"input_2:0\", shape=(?, 28, 28, 1, 2), dtype=float32)\n",
      "Tensor(\"conv2d_3_1/stack:0\", shape=(?, 26, 26, 32, 2), dtype=float32)\n",
      "Tensor(\"conv2d_3_1/stack:0\", shape=(?, 26, 26, 32, 2), dtype=float32)\n",
      "_________________________________________________________________\n",
      "Layer (type)                 Output Shape              Param #   \n",
      "=================================================================\n",
      "input_2 (InputLayer)         (None, 28, 28, 1, 2)      0         \n",
      "_________________________________________________________________\n",
      "conv2d_3 (LPConv2D)          (None, 26, 26, 32, 2)     320       \n",
      "_________________________________________________________________\n",
      "conv2d_4 (LPConv2D)          (None, 24, 24, 64, 2)     18496     \n",
      "_________________________________________________________________\n",
      "max_pooling2d_2 (LPMaxPoolin (None, 12, 12, 64, 2)     0         \n",
      "_________________________________________________________________\n",
      "flatten_2 (LPFlatten)        (None, 9216, 2)           0         \n",
      "_________________________________________________________________\n",
      "dense_3 (LPDense)            (None, 128, 2)            1179776   \n",
      "_________________________________________________________________\n",
      "dense_4 (LPDense)            (None, 10, 2)             1290      \n",
      "=================================================================\n",
      "Total params: 1,199,882\n",
      "Trainable params: 1,199,882\n",
      "Non-trainable params: 0\n",
      "_________________________________________________________________\n"
     ]
    }
   ],
   "source": [
    "import tempfile, sys, os, pickle\n",
    "sys.path.insert(0, os.path.abspath('..'))\n",
    "\n",
    "from lpdn import convert_to_lpdn\n",
    "lp_model = convert_to_lpdn(Model(inputs=model.inputs, outputs=model.layers[-2].output))\n",
    "model.save_weights('tmp.h5')\n",
    "lp_model.load_weights('tmp.h5')\n",
    "lp_model.summary()"
   ]
  },
  {
   "cell_type": "code",
   "execution_count": 53,
   "metadata": {
    "collapsed": false
   },
   "outputs": [
    {
     "name": "stdout",
     "output_type": "stream",
     "text": [
      "(10000, 28, 28, 1, 2)\n",
      "(10000, 10, 2)\n"
     ]
    }
   ],
   "source": [
    "x_dist = np.stack([x_test, 0.5*np.ones_like(x_test)], -1)\n",
    "print(x_dist.shape)\n",
    "y_dist = lp_model.predict(x_dist)\n",
    "print (y_dist.shape)"
   ]
  },
  {
   "cell_type": "code",
   "execution_count": 55,
   "metadata": {
    "collapsed": false
   },
   "outputs": [
    {
     "name": "stderr",
     "output_type": "stream",
     "text": [
      "WARNING:matplotlib.legend:No handles with labels found to put in legend.\n"
     ]
    },
    {
     "name": "stdout",
     "output_type": "stream",
     "text": [
      "[7 2 1 0 4]\n"
     ]
    },
    {
     "data": {
      "image/png": "[encoded data removed]",
      "text/plain": [
       "<Figure size 432x288 with 1 Axes>"
      ]
     },
     "metadata": {
      "needs_background": "light"
     },
     "output_type": "display_data"
    },
    {
     "data": {
      "image/png": "[encoded data removed]",
      "text/plain": [
       "<Figure size 432x288 with 1 Axes>"
      ]
     },
     "metadata": {
      "needs_background": "light"
     },
     "output_type": "display_data"
    },
    {
     "data": {
      "image/png": "[encoded data removed]",
      "text/plain": [
       "<Figure size 432x288 with 1 Axes>"
      ]
     },
     "metadata": {
      "needs_background": "light"
     },
     "output_type": "display_data"
    }
   ],
   "source": [
    "%matplotlib inline\n",
    "import matplotlib.pyplot as plt\n",
    "import numpy as np\n",
    "from matplotlib import colors\n",
    "from matplotlib.ticker import PercentFormatter\n",
    "import matplotlib.mlab as mlab\n",
    "plt.imshow(x_dist[2, :, :, 0, 0])\n",
    "plt.figure()\n",
    "plt.imshow(y_dist[0:5, :, 0])\n",
    "plt.figure()\n",
    "plt.imshow(y_dist[0:5, :, 1])\n",
    "plt.legend()\n",
    "print (np.argmax(y_dist[0:5, :, 0], 1))"
   ]
  }
 ],
 "metadata": {
  "kernelspec": {
   "display_name": "Python 3",
   "language": "python",
   "name": "python3"
  },
  "language_info": {
   "codemirror_mode": {
    "name": "ipython",
    "version": 3
   },
   "file_extension": ".py",
   "mimetype": "text/x-python",
   "name": "python",
   "nbconvert_exporter": "python",
   "pygments_lexer": "ipython3",
   "version": "3.6.7"
  }
 },
 "nbformat": 4,
 "nbformat_minor": 2
}
