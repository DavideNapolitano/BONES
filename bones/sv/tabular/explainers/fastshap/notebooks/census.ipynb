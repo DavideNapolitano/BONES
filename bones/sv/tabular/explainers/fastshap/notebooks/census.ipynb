{
 "cells": [
  {
   "cell_type": "markdown",
   "id": "engaged-interference",
   "metadata": {},
   "source": [
    "# Load data"
   ]
  },
  {
   "cell_type": "code",
   "execution_count": 1,
   "id": "hungry-jaguar",
   "metadata": {},
   "outputs": [
    {
     "name": "stderr",
     "output_type": "stream",
     "text": [
      "/home/dnapolitano/miniconda3/envs/myenv/lib/python3.7/site-packages/tqdm/auto.py:22: TqdmWarning: IProgress not found. Please update jupyter and ipywidgets. See https://ipywidgets.readthedocs.io/en/stable/user_install.html\n",
      "  from .autonotebook import tqdm as notebook_tqdm\n"
     ]
    },
    {
     "ename": "ModuleNotFoundError",
     "evalue": "No module named 'shapreg'",
     "output_type": "error",
     "traceback": [
      "\u001b[0;31m---------------------------------------------------------------------------\u001b[0m",
      "\u001b[0;31mModuleNotFoundError\u001b[0m                       Traceback (most recent call last)",
      "\u001b[0;32m/tmp/ipykernel_1555020/165300199.py\u001b[0m in \u001b[0;36m<module>\u001b[0;34m\u001b[0m\n\u001b[1;32m      1\u001b[0m \u001b[0;32mimport\u001b[0m \u001b[0mshap\u001b[0m  \u001b[0;31m# https://github.com/slundberg/shap\u001b[0m\u001b[0;34m\u001b[0m\u001b[0;34m\u001b[0m\u001b[0m\n\u001b[0;32m----> 2\u001b[0;31m \u001b[0;32mimport\u001b[0m \u001b[0mshapreg\u001b[0m  \u001b[0;31m# https://github.com/iancovert/shapley-regression\u001b[0m\u001b[0;34m\u001b[0m\u001b[0;34m\u001b[0m\u001b[0m\n\u001b[0m\u001b[1;32m      3\u001b[0m \u001b[0;32mimport\u001b[0m \u001b[0mnumpy\u001b[0m \u001b[0;32mas\u001b[0m \u001b[0mnp\u001b[0m\u001b[0;34m\u001b[0m\u001b[0;34m\u001b[0m\u001b[0m\n\u001b[1;32m      4\u001b[0m \u001b[0;32mfrom\u001b[0m \u001b[0msklearn\u001b[0m\u001b[0;34m.\u001b[0m\u001b[0mmodel_selection\u001b[0m \u001b[0;32mimport\u001b[0m \u001b[0mtrain_test_split\u001b[0m\u001b[0;34m\u001b[0m\u001b[0;34m\u001b[0m\u001b[0m\n\u001b[1;32m      5\u001b[0m \u001b[0;32mfrom\u001b[0m \u001b[0msklearn\u001b[0m\u001b[0;34m.\u001b[0m\u001b[0mpreprocessing\u001b[0m \u001b[0;32mimport\u001b[0m \u001b[0mStandardScaler\u001b[0m\u001b[0;34m\u001b[0m\u001b[0;34m\u001b[0m\u001b[0m\n",
      "\u001b[0;31mModuleNotFoundError\u001b[0m: No module named 'shapreg'"
     ]
    }
   ],
   "source": [
    "import shap  # https://github.com/slundberg/shap\n",
    "import shapreg  # https://github.com/iancovert/shapley-regression\n",
    "import numpy as np\n",
    "from sklearn.model_selection import train_test_split\n",
    "from sklearn.preprocessing import StandardScaler"
   ]
  },
  {
   "cell_type": "code",
   "execution_count": 2,
   "id": "structured-album",
   "metadata": {},
   "outputs": [],
   "source": [
    "# Load and split data\n",
    "X_train, X_test, Y_train, Y_test = train_test_split(\n",
    "    *shap.datasets.adult(), test_size=0.2, random_state=7)\n",
    "X_train, X_val, Y_train, Y_val = train_test_split(\n",
    "    X_train, Y_train, test_size=0.2, random_state=0)\n",
    "\n",
    "# Data scaling\n",
    "num_features = X_train.shape[1]\n",
    "feature_names = X_train.columns.tolist()\n",
    "ss = StandardScaler()\n",
    "ss.fit(X_train)\n",
    "X_train = ss.transform(X_train.values)\n",
    "X_val = ss.transform(X_val.values)\n",
    "X_test = ss.transform(X_test.values)"
   ]
  },
  {
   "cell_type": "markdown",
   "id": "public-citizen",
   "metadata": {},
   "source": [
    "# Train model"
   ]
  },
  {
   "cell_type": "code",
   "execution_count": 3,
   "id": "sound-thickness",
   "metadata": {},
   "outputs": [],
   "source": [
    "import pickle\n",
    "import os.path\n",
    "import lightgbm as lgb"
   ]
  },
  {
   "cell_type": "code",
   "execution_count": 4,
   "id": "laughing-juvenile",
   "metadata": {},
   "outputs": [
    {
     "name": "stdout",
     "output_type": "stream",
     "text": [
      "Loading saved model\n"
     ]
    }
   ],
   "source": [
    "if os.path.isfile('census model.pkl'):\n",
    "    print('Loading saved model')\n",
    "    with open('census model.pkl', 'rb') as f:\n",
    "        model = pickle.load(f)\n",
    "\n",
    "else:\n",
    "    # Setup\n",
    "    params = {\n",
    "        \"max_bin\": 512,\n",
    "        \"learning_rate\": 0.05,\n",
    "        \"boosting_type\": \"gbdt\",\n",
    "        \"objective\": \"binary\",\n",
    "        \"metric\": \"binary_logloss\",\n",
    "        \"num_leaves\": 10,\n",
    "        \"verbose\": -1,\n",
    "        \"min_data\": 100,\n",
    "        \"boost_from_average\": True\n",
    "    }\n",
    "\n",
    "    # More setup\n",
    "    d_train = lgb.Dataset(X_train, label=Y_train)\n",
    "    d_val = lgb.Dataset(X_val, label=Y_val)\n",
    "\n",
    "    # Train model\n",
    "    model = lgb.train(params, d_train, 10000, valid_sets=[d_val],\n",
    "                      early_stopping_rounds=50, verbose_eval=1000)\n",
    "    \n",
    "    # Save model\n",
    "    with open('census model.pkl', 'wb') as f:\n",
    "        pickle.dump(model, f)"
   ]
  },
  {
   "cell_type": "markdown",
   "id": "renewable-setup",
   "metadata": {},
   "source": [
    "# Train surrogate"
   ]
  },
  {
   "cell_type": "code",
   "execution_count": 5,
   "id": "buried-creek",
   "metadata": {},
   "outputs": [],
   "source": [
    "import torch\n",
    "import torch.nn as nn\n",
    "from fastshap.utils import MaskLayer1d\n",
    "from fastshap import Surrogate, KLDivLoss"
   ]
  },
  {
   "cell_type": "code",
   "execution_count": 6,
   "id": "welcome-banana",
   "metadata": {},
   "outputs": [],
   "source": [
    "# Select device\n",
    "device = torch.device('cuda')"
   ]
  },
  {
   "cell_type": "code",
   "execution_count": 7,
   "id": "early-courage",
   "metadata": {},
   "outputs": [
    {
     "name": "stdout",
     "output_type": "stream",
     "text": [
      "Loading saved surrogate model\n"
     ]
    }
   ],
   "source": [
    "# Check for model\n",
    "if os.path.isfile('census surrogate.pt'):\n",
    "    print('Loading saved surrogate model')\n",
    "    surr = torch.load('census surrogate.pt').to(device)\n",
    "    surrogate = Surrogate(surr, num_features)\n",
    "\n",
    "else:\n",
    "    # Create surrogate model\n",
    "    surr = nn.Sequential(\n",
    "        MaskLayer1d(value=0, append=True),\n",
    "        nn.Linear(2 * num_features, 128),\n",
    "        nn.ELU(inplace=True),\n",
    "        nn.Linear(128, 128),\n",
    "        nn.ELU(inplace=True),\n",
    "        nn.Linear(128, 2)).to(device)\n",
    "\n",
    "    # Set up surrogate object\n",
    "    surrogate = Surrogate(surr, num_features)\n",
    "\n",
    "    # Set up original model\n",
    "    def original_model(x):\n",
    "        pred = model.predict(x.cpu().numpy())\n",
    "        pred = np.stack([1 - pred, pred]).T\n",
    "        return torch.tensor(pred, dtype=torch.float32, device=x.device)\n",
    "\n",
    "    # Train\n",
    "    surrogate.train_original_model(\n",
    "        X_train,\n",
    "        X_val,\n",
    "        original_model,\n",
    "        batch_size=64,\n",
    "        max_epochs=100,\n",
    "        loss_fn=KLDivLoss(),\n",
    "        validation_samples=10,\n",
    "        validation_batch_size=10000,\n",
    "        verbose=True)\n",
    "\n",
    "    # Save surrogate\n",
    "    surr.cpu()\n",
    "    torch.save(surr, 'census surrogate.pt')\n",
    "    surr.to(device)"
   ]
  },
  {
   "cell_type": "markdown",
   "id": "modern-nightlife",
   "metadata": {},
   "source": [
    "# Train FastSHAP"
   ]
  },
  {
   "cell_type": "code",
   "execution_count": 8,
   "id": "active-regression",
   "metadata": {},
   "outputs": [],
   "source": [
    "from fastshap import FastSHAP"
   ]
  },
  {
   "cell_type": "code",
   "execution_count": 9,
   "id": "compressed-amino",
   "metadata": {},
   "outputs": [
    {
     "name": "stdout",
     "output_type": "stream",
     "text": [
      "Loading saved explainer model\n"
     ]
    }
   ],
   "source": [
    "# Check for model\n",
    "if os.path.isfile('census explainer.pt'):\n",
    "    print('Loading saved explainer model')\n",
    "    explainer = torch.load('census explainer.pt').to(device)\n",
    "    fastshap = FastSHAP(explainer, surrogate, normalization='additive',\n",
    "                        link=nn.Softmax(dim=-1))\n",
    "\n",
    "else:\n",
    "    # Create explainer model\n",
    "    explainer = nn.Sequential(\n",
    "        nn.Linear(num_features, 128),\n",
    "        nn.ReLU(inplace=True),\n",
    "        nn.Linear(128, 128),\n",
    "        nn.ReLU(inplace=True),\n",
    "        nn.Linear(128, 2 * num_features)).to(device)\n",
    "\n",
    "    # Set up FastSHAP object\n",
    "    fastshap = FastSHAP(explainer, surrogate, normalization='additive',\n",
    "                        link=nn.Softmax(dim=-1))\n",
    "\n",
    "    # Train\n",
    "    fastshap.train(\n",
    "        X_train,\n",
    "        X_val[:100],\n",
    "        batch_size=32,\n",
    "        num_samples=32,\n",
    "        max_epochs=200,\n",
    "        validation_samples=128,\n",
    "        verbose=True)\n",
    "    \n",
    "    # Save explainer\n",
    "    explainer.cpu()\n",
    "    torch.save(explainer, 'census explainer.pt')\n",
    "    explainer.to(device)"
   ]
  },
  {
   "cell_type": "markdown",
   "id": "referenced-sacramento",
   "metadata": {},
   "source": [
    "# Compare with KernelSHAP"
   ]
  },
  {
   "cell_type": "code",
   "execution_count": 10,
   "id": "worth-flour",
   "metadata": {},
   "outputs": [],
   "source": [
    "import matplotlib.pyplot as plt"
   ]
  },
  {
   "cell_type": "code",
   "execution_count": 11,
   "id": "structured-messenger",
   "metadata": {},
   "outputs": [],
   "source": [
    "# Setup for KernelSHAP\n",
    "def imputer(x, S):\n",
    "    x = torch.tensor(x, dtype=torch.float32, device=device)\n",
    "    S = torch.tensor(S, dtype=torch.float32, device=device)\n",
    "    pred = surrogate(x, S).softmax(dim=-1)\n",
    "    return pred.cpu().data.numpy()"
   ]
  },
  {
   "cell_type": "code",
   "execution_count": 12,
   "id": "intellectual-zoning",
   "metadata": {},
   "outputs": [
    {
     "data": {
      "application/vnd.jupyter.widget-view+json": {
       "model_id": "5bbd59f481e04288b42d0fb052022ed6",
       "version_major": 2,
       "version_minor": 0
      },
      "text/plain": [
       "  0%|          | 0/1 [00:00<?, ?it/s]"
      ]
     },
     "metadata": {},
     "output_type": "display_data"
    }
   ],
   "source": [
    "# Select example\n",
    "ind = np.random.choice(len(X_test))\n",
    "x = X_test[ind:ind+1]\n",
    "y = int(Y_test[ind])\n",
    "\n",
    "# Run FastSHAP\n",
    "fastshap_values = fastshap.shap_values(x)[0]\n",
    "\n",
    "# Run KernelSHAP to convergence\n",
    "game = shapreg.games.PredictionGame(imputer, x)\n",
    "shap_values, all_results = shapreg.shapley.ShapleyRegression(\n",
    "    game, batch_size=32, paired_sampling=False, detect_convergence=True,\n",
    "    bar=True, return_all=True)"
   ]
  },
  {
   "cell_type": "code",
   "execution_count": 13,
   "id": "devoted-jenny",
   "metadata": {},
   "outputs": [
    {
     "data": {
      "image/png": "[encoded data removed]",
      "text/plain": [
       "<Figure size 648x396 with 1 Axes>"
      ]
     },
     "metadata": {
      "needs_background": "light"
     },
     "output_type": "display_data"
    }
   ],
   "source": [
    "# Create figure\n",
    "plt.figure(figsize=(9, 5.5))\n",
    "\n",
    "# Bar chart\n",
    "width = 0.75\n",
    "kernelshap_iters = 128\n",
    "plt.bar(np.arange(num_features) - width / 3, shap_values.values[:, y],\n",
    "        width / 3, label='True SHAP values', color='tab:gray')\n",
    "plt.bar(np.arange(num_features), fastshap_values[:, y],\n",
    "        width / 3, label='FastSHAP', color='tab:green')\n",
    "plt.bar(np.arange(num_features) + width / 3,\n",
    "        all_results['values'][list(all_results['iters']).index(kernelshap_iters)][:, y],\n",
    "        width / 3, label='KernelSHAP @ {}'.format(kernelshap_iters), color='tab:red')\n",
    "\n",
    "# Annotations\n",
    "plt.legend(fontsize=16)\n",
    "plt.tick_params(labelsize=14)\n",
    "plt.ylabel('SHAP Values', fontsize=16)\n",
    "plt.title('Census Explanation Example', fontsize=18)\n",
    "plt.xticks(np.arange(num_features), feature_names,\n",
    "           rotation=35, rotation_mode='anchor', ha='right')\n",
    "\n",
    "plt.tight_layout()\n",
    "plt.show()"
   ]
  },
  {
   "cell_type": "code",
   "execution_count": null,
   "id": "latest-earthquake",
   "metadata": {},
   "outputs": [],
   "source": []
  }
 ],
 "metadata": {
  "kernelspec": {
   "display_name": "Python 3",
   "language": "python",
   "name": "python3"
  },
  "language_info": {
   "codemirror_mode": {
    "name": "ipython",
    "version": 3
   },
   "file_extension": ".py",
   "mimetype": "text/x-python",
   "name": "python",
   "nbconvert_exporter": "python",
   "pygments_lexer": "ipython3",
   "version": "3.7.12"
  }
 },
 "nbformat": 4,
 "nbformat_minor": 5
}
